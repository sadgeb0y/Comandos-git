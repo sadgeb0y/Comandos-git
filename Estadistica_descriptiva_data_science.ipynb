{
  "nbformat": 4,
  "nbformat_minor": 0,
  "metadata": {
    "colab": {
      "provenance": [],
      "toc_visible": true,
      "authorship_tag": "ABX9TyO8XPPsYakj4AfXi7OGLf01",
      "include_colab_link": true
    },
    "kernelspec": {
      "name": "python3",
      "display_name": "Python 3"
    },
    "language_info": {
      "name": "python"
    }
  },
  "cells": [
    {
      "cell_type": "markdown",
      "metadata": {
        "id": "view-in-github",
        "colab_type": "text"
      },
      "source": [
        "<a href=\"https://colab.research.google.com/github/sadgeb0y/Comandos-git/blob/master/Estadistica_descriptiva_data_science.ipynb\" target=\"_parent\"><img src=\"https://colab.research.google.com/assets/colab-badge.svg\" alt=\"Open In Colab\"/></a>"
      ]
    },
    {
      "cell_type": "markdown",
      "source": [
        "# TIPOS DE DATOS:\n",
        "\n",
        "- Categoricos:\n",
        "\n",
        " género, categoria de pelicula, método de pago\n",
        "  - ordinal\n",
        "  - nominal\n",
        "\n",
        "- Numericos:\n",
        "\n",
        " edad, altura, temperatura\n",
        "  - discretos\n",
        "  - continuos"
      ],
      "metadata": {
        "id": "z96JUwO8Hb3a"
      }
    },
    {
      "cell_type": "code",
      "source": [],
      "metadata": {
        "id": "UerI2jXeIuph"
      },
      "execution_count": null,
      "outputs": []
    }
  ]
}